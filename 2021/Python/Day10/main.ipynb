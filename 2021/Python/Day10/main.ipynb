{
 "cells": [
  {
   "cell_type": "code",
   "execution_count": 24,
   "metadata": {},
   "outputs": [
    {
     "name": "stdout",
     "output_type": "stream",
     "text": [
      "Part 1: 311895\n",
      "Part 2: 2904180541\n"
     ]
    }
   ],
   "source": [
    "from itertools import permutations\n",
    "from functools import reduce\n",
    "from numpy import clip\n",
    "from statistics import median\n",
    "\n",
    "with open('in.txt') as file:\n",
    "    lines = file.read().splitlines()\n",
    "\n",
    "def getScore(c):\n",
    "    if c == \")\": return 3\n",
    "    elif c == \"]\": return 57\n",
    "    elif c == \"}\": return 1197\n",
    "    elif c == \">\": return 25137\n",
    "\n",
    "def solve1():\n",
    "    score = 0\n",
    "\n",
    "    for line in lines:\n",
    "        stack = []\n",
    "\n",
    "        for c in line:\n",
    "            if c == '(' or c == '{' or c == '[' or c == '<':\n",
    "                stack.append(c)\n",
    "\n",
    "            elif c == ')' or c == '}' or c == ']' or c == '>':\n",
    "                if (len(stack) == 0) or (c == ')' and stack[-1] != '(') or (c == '}' and stack[-1] != '{') or (c == ']' and stack[-1] != '[') or (c == '>' and stack[-1] != '<'):\n",
    "                    score += getScore(c)\n",
    "                    break\n",
    "\n",
    "                stack.pop()\n",
    "    \n",
    "    return score\n",
    "\n",
    "def solve2():\n",
    "    newLines = []\n",
    "    scores = []\n",
    "\n",
    "    for line in lines:\n",
    "        stack = []\n",
    "\n",
    "        for c in line:\n",
    "            ok = True\n",
    "\n",
    "            if c == '(' or c == '{' or c == '[' or c == '<':\n",
    "                stack.append(c)\n",
    "\n",
    "            elif c == ')' or c == '}' or c == ']' or c == '>':\n",
    "                if (len(stack) == 0) or (c == ')' and stack[-1] != '(') or (c == '}' and stack[-1] != '{') or (c == ']' and stack[-1] != '[') or (c == '>' and stack[-1] != '<'):\n",
    "                    ok = False\n",
    "                    break\n",
    "\n",
    "                stack.pop()\n",
    "            \n",
    "        if ok:\n",
    "            newLines.append(line)\n",
    "    \n",
    "    for line in newLines:\n",
    "        stack = []\n",
    "\n",
    "        for c in line:\n",
    "            if c == '(' or c == '{' or c == '[' or c == '<':\n",
    "                stack.append(c)\n",
    "            elif c == ')' or c == '}' or c == ']' or c == '>':\n",
    "                stack.pop()\n",
    "        \n",
    "        stack.reverse()\n",
    "\n",
    "        score = 0\n",
    "        for c in stack:\n",
    "            score = score * 5\n",
    "\n",
    "            if c == '(': score += 1\n",
    "            elif c == '[': score += 2\n",
    "            elif c == '{': score += 3\n",
    "            elif c == '<': score += 4\n",
    "        \n",
    "        scores.append(score)\n",
    "\n",
    "    return median(scores)\n",
    "\n",
    "print(f\"Part 1: {solve1()}\")\n",
    "print(f\"Part 2: {solve2()}\")"
   ]
  }
 ],
 "metadata": {
  "interpreter": {
   "hash": "c473255d130eaec32066cca3561bdc6c9359350b53144f50d748638fdb796e24"
  },
  "kernelspec": {
   "display_name": "Python 3.10.0 64-bit",
   "language": "python",
   "name": "python3"
  },
  "language_info": {
   "codemirror_mode": {
    "name": "ipython",
    "version": 3
   },
   "file_extension": ".py",
   "mimetype": "text/x-python",
   "name": "python",
   "nbconvert_exporter": "python",
   "pygments_lexer": "ipython3",
   "version": "3.10.0"
  },
  "orig_nbformat": 4
 },
 "nbformat": 4,
 "nbformat_minor": 2
}
