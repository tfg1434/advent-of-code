{
 "cells": [
  {
   "cell_type": "code",
   "execution_count": 17,
   "metadata": {},
   "outputs": [
    {
     "name": "stdout",
     "output_type": "stream",
     "text": [
      "Part 1: 1667\n",
      "Part 2: 388\n"
     ]
    }
   ],
   "source": [
    "with open('in.txt') as file:\n",
    "    lines = file.read().splitlines()\n",
    "    octopuses = [list(map(int, row)) for row in lines]\n",
    "    octopuses2 = octopuses.copy()\n",
    "\n",
    "def solve1(steps):\n",
    "    flashes = 0\n",
    "\n",
    "    for _ in range(steps):\n",
    "        tens = []\n",
    "\n",
    "        for y in range(len(octopuses)):\n",
    "            for x in range(len(octopuses[y])):  \n",
    "                octopuses[y][x] += 1\n",
    "\n",
    "                if octopuses[y][x] == 10:\n",
    "                    tens.append((x, y))\n",
    "\n",
    "        flashes += flash(tens)\n",
    "    \n",
    "    return flashes\n",
    "\n",
    "def solve2():\n",
    "    step = 0\n",
    "\n",
    "    while True:\n",
    "        tens = []\n",
    "\n",
    "        for y in range(len(octopuses2)):\n",
    "            for x in range(len(octopuses2[y])):  \n",
    "                octopuses2[y][x] += 1\n",
    "\n",
    "                if octopuses2[y][x] == 10:\n",
    "                    tens.append((x, y))\n",
    "        flash(tens)\n",
    "\n",
    "        simul = True\n",
    "        for y in range(len(octopuses2)):\n",
    "            for x in range(len(octopuses2[y])):\n",
    "                if octopuses2[y][x] != 0:\n",
    "                    simul = False\n",
    "                    break\n",
    "\n",
    "            if not simul: break\n",
    "\n",
    "        if simul: \n",
    "            return step + 1\n",
    "\n",
    "        step += 1\n",
    "    \n",
    "def flash(locations):\n",
    "    flashes = len(locations)\n",
    "\n",
    "    dirs = [(-1, -1), (0, -1), (1, -1), (1, 0), (1, 1), (0, 1), (-1, 1), (-1, 0)]\n",
    "    assert len(dirs) == 8\n",
    "    tens = []\n",
    "\n",
    "    for x, y in locations:\n",
    "        for xx, yy in dirs:\n",
    "            if not (0 <= x + xx < len(octopuses[y]) and 0 <= y + yy < len(octopuses)): continue\n",
    "\n",
    "            octopuses[y + yy][x + xx] += 1\n",
    "\n",
    "            if octopuses[y + yy][x + xx] == 10:\n",
    "                tens.append((x + xx, y + yy))\n",
    "\n",
    "    if len(tens) > 0:\n",
    "        flashes += flash(tens)\n",
    "\n",
    "    for x, y in locations:\n",
    "        octopuses[y][x] = 0\n",
    "\n",
    "    return flashes\n",
    "    \n",
    "print(f\"Part 1: {solve1(100)}\")\n",
    "print(f\"Part 2: {solve2()}\")"
   ]
  }
 ],
 "metadata": {
  "interpreter": {
   "hash": "c473255d130eaec32066cca3561bdc6c9359350b53144f50d748638fdb796e24"
  },
  "kernelspec": {
   "display_name": "Python 3.10.0 64-bit",
   "language": "python",
   "name": "python3"
  },
  "language_info": {
   "codemirror_mode": {
    "name": "ipython",
    "version": 3
   },
   "file_extension": ".py",
   "mimetype": "text/x-python",
   "name": "python",
   "nbconvert_exporter": "python",
   "pygments_lexer": "ipython3",
   "version": "3.10.0"
  },
  "orig_nbformat": 4
 },
 "nbformat": 4,
 "nbformat_minor": 2
}
