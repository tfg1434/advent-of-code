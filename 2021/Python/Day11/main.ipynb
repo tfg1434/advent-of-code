{
 "cells": [
  {
   "cell_type": "code",
   "execution_count": 24,
   "metadata": {},
   "outputs": [
    {
     "name": "stdout",
     "output_type": "stream",
     "text": [
      "Part 1: 311895\n",
      "Part 2: 2904180541\n"
     ]
    }
   ],
   "source": [
    "with open('in.txt') as file:\n",
    "    lines = file.read().splitlines()\n",
    "\n",
    "def solve():\n",
    "    pass"
   ]
  }
 ],
 "metadata": {
  "interpreter": {
   "hash": "c473255d130eaec32066cca3561bdc6c9359350b53144f50d748638fdb796e24"
  },
  "kernelspec": {
   "display_name": "Python 3.10.0 64-bit",
   "language": "python",
   "name": "python3"
  },
  "language_info": {
   "codemirror_mode": {
    "name": "ipython",
    "version": 3
   },
   "file_extension": ".py",
   "mimetype": "text/x-python",
   "name": "python",
   "nbconvert_exporter": "python",
   "pygments_lexer": "ipython3",
   "version": "3.10.0"
  },
  "orig_nbformat": 4
 },
 "nbformat": 4,
 "nbformat_minor": 2
}
