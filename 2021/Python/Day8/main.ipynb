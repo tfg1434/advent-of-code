{
 "cells": [
  {
   "cell_type": "code",
   "execution_count": 1,
   "metadata": {},
   "outputs": [
    {
     "name": "stdout",
     "output_type": "stream",
     "text": [
      "Part 1: 264\n",
      "Part 2: 1063760\n"
     ]
    }
   ],
   "source": [
    "from itertools import permutations\n",
    "from functools import reduce\n",
    "\n",
    "lines = open(\"in.txt\").read().splitlines()\n",
    "\n",
    "# if two are on, must be one\n",
    "# if three are on, must be seven\n",
    "# if four are on, must be four\n",
    "# if seven are on, must be eight\n",
    "\n",
    "def solve(isPart1):\n",
    "    entries = list(map(lambda line: list(map(lambda side: side.split(\" \"), line.split(\" | \"))), lines))\n",
    "\n",
    "    if (isPart1):\n",
    "        ans = 0\n",
    "\n",
    "        for entry in entries:\n",
    "            ans += sum(len(val) == 2 or len(val) == 3 or len(val) == 4 or len(val) == 7 for val in entry[1])\n",
    "\n",
    "        return ans\n",
    "\n",
    "    ans = 0\n",
    "    match = {\n",
    "        \"abcdefg\": \"8\",\n",
    "        \"bcdef\": \"5\",\n",
    "        \"acdfg\": \"2\",\n",
    "        \"abcdf\": \"3\",\n",
    "        \"abd\": \"7\",\n",
    "        \"abcdef\": \"9\",\n",
    "        \"bcdefg\": \"6\",\n",
    "        \"abef\": \"4\",\n",
    "        \"abcdeg\": \"0\",\n",
    "        \"ab\": \"1\",\n",
    "    }\n",
    "    abcdefg = [\"a\", \"b\", \"c\", \"d\", \"e\", \"f\", \"g\"]\n",
    "\n",
    "    for signals, outputs in entries:\n",
    "        for perm in permutations(abcdefg):\n",
    "            lookup = { perm[i]: abcdefg[i] for i in range(len(perm)) }\n",
    "            a = [\"\".join(sorted(lookup[s] for s in signal)) for signal in signals]\n",
    "            b = [\"\".join(sorted(lookup[o] for o in output)) for output in outputs]\n",
    "\n",
    "            if all(signal in match for signal in a):\n",
    "                ans += int(reduce(lambda acc, output: acc + match[output], b, \"\"))\n",
    "                break\n",
    "    \n",
    "    return ans\n",
    "\n",
    "print(f\"Part 1: {solve(True)}\")\n",
    "print(f\"Part 2: {solve(False)}\")"
   ]
  }
 ],
 "metadata": {
  "interpreter": {
   "hash": "c473255d130eaec32066cca3561bdc6c9359350b53144f50d748638fdb796e24"
  },
  "kernelspec": {
   "display_name": "Python 3.10.0 64-bit",
   "language": "python",
   "name": "python3"
  },
  "language_info": {
   "codemirror_mode": {
    "name": "ipython",
    "version": 3
   },
   "file_extension": ".py",
   "mimetype": "text/x-python",
   "name": "python",
   "nbconvert_exporter": "python",
   "pygments_lexer": "ipython3",
   "version": "3.9.5"
  },
  "orig_nbformat": 4
 },
 "nbformat": 4,
 "nbformat_minor": 2
}
