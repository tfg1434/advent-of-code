{
 "cells": [
  {
   "cell_type": "code",
   "execution_count": 1,
   "metadata": {},
   "outputs": [
    {
     "ename": "IndentationError",
     "evalue": "expected an indented block after 'for' statement on line 34 (Temp/ipykernel_4416/2710614725.py, line 35)",
     "output_type": "error",
     "traceback": [
      "\u001b[1;36m  File \u001b[1;32m\"C:\\Users\\Eglin\\AppData\\Local\\Temp/ipykernel_4416/2710614725.py\"\u001b[1;36m, line \u001b[1;32m35\u001b[0m\n\u001b[1;33m    \u001b[0m\n\u001b[1;37m    ^\u001b[0m\n\u001b[1;31mIndentationError\u001b[0m\u001b[1;31m:\u001b[0m expected an indented block after 'for' statement on line 34\n"
     ]
    }
   ],
   "source": [
    "from collections import Counter\n",
    "from statistics import mode\n",
    "\n",
    "with open('in.txt') as file:\n",
    "    lines = file.read().splitlines()\n",
    "    template = lines[0]\n",
    "    temp = [line.split(\" -> \") for line in lines[2:]]\n",
    "    print(temp)\n",
    "    rules = { temp[i][0]: temp[i][1] for i in range(len(temp)) }\n",
    "\n",
    "tt = template\n",
    "for i in range(10): \n",
    "    print(i)\n",
    "\n",
    "    j = 0\n",
    "    for _ in range(len(template) - 1):\n",
    "        rule = t[j:j + 2]\n",
    "        \n",
    "        #print(rule, rules[rule], t, j + 1)\n",
    "        t = t[:j+1] + rules[rule] + t[j+1:]\n",
    "        j += 2\n",
    "\n",
    "    tt = t\n",
    "\n",
    "def most_frequent(List):\n",
    "    return Counter(List).most_common()[0][1]\n",
    "\n",
    "def least_frequent(List):\n",
    "    return Counter(List).most_common()[-1][1]\n",
    "\n",
    "print(most_frequent(tt), least_frequent(tt))\n",
    "print(int(most_frequent(tt)) - int(least_frequent(tt)))\n",
    "\n",
    "for i in range(40):\n",
    "\n"
   ]
  }
 ],
 "metadata": {
  "interpreter": {
   "hash": "c473255d130eaec32066cca3561bdc6c9359350b53144f50d748638fdb796e24"
  },
  "kernelspec": {
   "display_name": "Python 3.10.0 64-bit",
   "language": "python",
   "name": "python3"
  },
  "language_info": {
   "codemirror_mode": {
    "name": "ipython",
    "version": 3
   },
   "file_extension": ".py",
   "mimetype": "text/x-python",
   "name": "python",
   "nbconvert_exporter": "python",
   "pygments_lexer": "ipython3",
   "version": "3.10.0"
  },
  "orig_nbformat": 4
 },
 "nbformat": 4,
 "nbformat_minor": 2
}
