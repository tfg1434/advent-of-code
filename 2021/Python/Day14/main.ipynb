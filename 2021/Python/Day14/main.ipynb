{
 "cells": [
  {
   "cell_type": "code",
   "execution_count": 20,
   "metadata": {},
   "outputs": [
    {
     "name": "stdout",
     "output_type": "stream",
     "text": [
      "3288891573057\n"
     ]
    }
   ],
   "source": [
    "from collections import Counter\n",
    "from statistics import mode\n",
    "from collections import defaultdict\n",
    "\n",
    "with open('in.txt') as file:\n",
    "    lines = file.read().splitlines()\n",
    "    template = lines[0]\n",
    "    temp = [line.split(\" -> \") for line in lines[2:]]\n",
    "    rules = { temp[i][0]: temp[i][1] for i in range(len(temp)) }\n",
    "\n",
    "count = Counter()\n",
    "\n",
    "for i in range(len(template) - 1):\n",
    "    count[template[i:i+2]] += 1\n",
    "\n",
    "for i in range(41):\n",
    "    if i == 40:\n",
    "        break\n",
    "\n",
    "    count2 = Counter()\n",
    "    for c in count:\n",
    "        # CH -> B   CB HB \n",
    "        count2[c[0] + rules[c]] += count[c]\n",
    "        count2[rules[c] + c[1]] += count[c]\n",
    "\n",
    "    count = count2\n",
    "\n",
    "# convert { two letter string: count } to { single: count }\n",
    "ct = Counter()\n",
    "for c in count:\n",
    "    ct[c[0]] += count[c]\n",
    "# last doesnt change\n",
    "ct[template[-1]] += 1\n",
    "\n",
    "print(ct.most_common()[0][1] - ct.most_common()[-1][1])\n"
   ]
  }
 ],
 "metadata": {
  "interpreter": {
   "hash": "c473255d130eaec32066cca3561bdc6c9359350b53144f50d748638fdb796e24"
  },
  "kernelspec": {
   "display_name": "Python 3.10.0 64-bit",
   "language": "python",
   "name": "python3"
  },
  "language_info": {
   "codemirror_mode": {
    "name": "ipython",
    "version": 3
   },
   "file_extension": ".py",
   "mimetype": "text/x-python",
   "name": "python",
   "nbconvert_exporter": "python",
   "pygments_lexer": "ipython3",
   "version": "3.10.0"
  },
  "orig_nbformat": 4
 },
 "nbformat": 4,
 "nbformat_minor": 2
}
