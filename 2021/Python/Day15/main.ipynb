{
 "cells": [
  {
   "cell_type": "code",
   "execution_count": 2,
   "metadata": {},
   "outputs": [
    {
     "name": "stdout",
     "output_type": "stream",
     "text": [
      "613\n"
     ]
    }
   ],
   "source": [
    "from collections import defaultdict\n",
    "\n",
    "with open('example.txt') as file:\n",
    "    lines = file.read().splitlines()\n",
    "\n",
    "N = 5\n",
    "adj = {}\n",
    "Q = []\n",
    "dist = {}\n",
    "R = len(lines)\n",
    "C = len(lines[0])\n",
    "for r, row in enumerate(lines):\n",
    "    for c, col in enumerate(row):\n",
    "        adjacent = []\n",
    "        for y in range(-1, 2):\n",
    "            for x in range(-1, 2):\n",
    "                #if y == 0 and x == 0: continue\n",
    "                if y == 1 and x == -1: continue\n",
    "                if y == -1 and x == 1: continue\n",
    "                if y == x: continue\n",
    "                if c + x < 0 or r + y < 0: continue\n",
    "                if c + x >= C or r + y >= R: continue\n",
    "\n",
    "                adjacent.append(((c + x, r + y), lines[r+y][c+x],))\n",
    "        adj[(c, r)] = adjacent\n",
    "        Q.append((c, r))\n",
    "        dist[(c, r)] = 9999999\n",
    "\n",
    "dist[(0, 0)] = 0\n",
    "\n",
    "def dijikstra(point):\n",
    "    S = set()\n",
    "\n",
    "    while Q:\n",
    "        # 1\n",
    "        v = min(Q, key=lambda x: dist[x])\n",
    "        Q.remove(v)\n",
    "        \n",
    "        if v[0] == N*R - 1 and v[1] == N*C - 1:\n",
    "            break\n",
    "        # 2\n",
    "        if v in S:\n",
    "            continue\n",
    "        S.add(v)\n",
    "        # 3\n",
    "        for u in adj[v]:\n",
    "            r = u[0][0]\n",
    "            c = u[0][1]\n",
    "            val = int(u[1])\n",
    "\n",
    "            alt = dist[v] + val\n",
    "            if alt < dist[u[0]]:\n",
    "                dist[u[0]] = alt\n",
    "    \n",
    "    return dist\n",
    "\n",
    "\n",
    "di = dijikstra((0, 0))\n",
    "print(di[max(k for k, v in di.items() if v != 0)])\n",
    "\n"
   ]
  }
 ],
 "metadata": {
  "interpreter": {
   "hash": "c473255d130eaec32066cca3561bdc6c9359350b53144f50d748638fdb796e24"
  },
  "kernelspec": {
   "display_name": "Python 3.10.0 64-bit",
   "language": "python",
   "name": "python3"
  },
  "language_info": {
   "codemirror_mode": {
    "name": "ipython",
    "version": 3
   },
   "file_extension": ".py",
   "mimetype": "text/x-python",
   "name": "python",
   "nbconvert_exporter": "python",
   "pygments_lexer": "ipython3",
   "version": "3.10.0"
  },
  "orig_nbformat": 4
 },
 "nbformat": 4,
 "nbformat_minor": 2
}
