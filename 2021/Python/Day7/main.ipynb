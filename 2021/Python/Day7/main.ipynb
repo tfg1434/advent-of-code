{
 "cells": [
  {
   "cell_type": "code",
   "execution_count": 1,
   "metadata": {},
   "outputs": [
    {
     "name": "stdout",
     "output_type": "stream",
     "text": [
      "Part 1: 347449\n",
      "Part 2: 98039527\n"
     ]
    }
   ],
   "source": [
    "lines = open(\"in.txt\").read().splitlines()\n",
    "\n",
    "positions = list(map(int, lines[0].split(\",\")))\n",
    "\n",
    "def calcFuel(fromPos, toPos, isPart1):\n",
    "    if (isPart1):\n",
    "        return abs(toPos - fromPos)\n",
    "\n",
    "    ans = 0\n",
    "\n",
    "    for i in range(abs(fromPos - toPos)):\n",
    "        ans += i + 1\n",
    "    \n",
    "    return ans\n",
    "\n",
    "def solve(isPart1):\n",
    "    bestFuel = -1\n",
    "    for to in range(max(positions)):\n",
    "        thisFuel = 0\n",
    "\n",
    "        for pos in positions:\n",
    "            thisFuel += calcFuel(pos, to, isPart1)\n",
    "        \n",
    "        if thisFuel < bestFuel or bestFuel == -1:\n",
    "            bestFuel = thisFuel\n",
    "    \n",
    "    return bestFuel\n",
    "\n",
    "print(f\"Part 1: {solve(True)}\")\n",
    "print(f\"Part 2: {solve(False)}\")"
   ]
  }
 ],
 "metadata": {
  "interpreter": {
   "hash": "c473255d130eaec32066cca3561bdc6c9359350b53144f50d748638fdb796e24"
  },
  "kernelspec": {
   "display_name": "Python 3.10.0 64-bit",
   "language": "python",
   "name": "python3"
  },
  "language_info": {
   "codemirror_mode": {
    "name": "ipython",
    "version": 3
   },
   "file_extension": ".py",
   "mimetype": "text/x-python",
   "name": "python",
   "nbconvert_exporter": "python",
   "pygments_lexer": "ipython3",
   "version": "3.10.0"
  },
  "orig_nbformat": 4
 },
 "nbformat": 4,
 "nbformat_minor": 2
}
